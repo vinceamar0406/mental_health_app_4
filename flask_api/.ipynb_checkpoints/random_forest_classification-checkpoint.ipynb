{
 "cells": [
  {
   "cell_type": "code",
   "execution_count": 15,
   "id": "2c20f5e2-50c3-4378-8fd5-cad6ca94f995",
   "metadata": {},
   "outputs": [
    {
     "name": "stdout",
     "output_type": "stream",
     "text": [
      "<class 'pandas.core.frame.DataFrame'>\n",
      "Index: 51093 entries, 0 to 52840\n",
      "Data columns (total 3 columns):\n",
      " #   Column          Non-Null Count  Dtype  \n",
      "---  ------          --------------  -----  \n",
      " 0   statement       51093 non-null  object \n",
      " 1   status          51093 non-null  object \n",
      " 2   status_encoded  18717 non-null  float64\n",
      "dtypes: float64(1), object(2)\n",
      "memory usage: 1.6+ MB\n"
     ]
    },
    {
     "data": {
      "text/html": [
       "<div>\n",
       "<style scoped>\n",
       "    .dataframe tbody tr th:only-of-type {\n",
       "        vertical-align: middle;\n",
       "    }\n",
       "\n",
       "    .dataframe tbody tr th {\n",
       "        vertical-align: top;\n",
       "    }\n",
       "\n",
       "    .dataframe thead th {\n",
       "        text-align: right;\n",
       "    }\n",
       "</style>\n",
       "<table border=\"1\" class=\"dataframe\">\n",
       "  <thead>\n",
       "    <tr style=\"text-align: right;\">\n",
       "      <th></th>\n",
       "      <th>statement</th>\n",
       "      <th>status</th>\n",
       "      <th>status_encoded</th>\n",
       "    </tr>\n",
       "  </thead>\n",
       "  <tbody>\n",
       "    <tr>\n",
       "      <th>0</th>\n",
       "      <td>oh my gosh</td>\n",
       "      <td>Anxiety</td>\n",
       "      <td>0.0</td>\n",
       "    </tr>\n",
       "    <tr>\n",
       "      <th>1</th>\n",
       "      <td>trouble sleeping, confused mind, restless hear...</td>\n",
       "      <td>Anxiety</td>\n",
       "      <td>0.0</td>\n",
       "    </tr>\n",
       "    <tr>\n",
       "      <th>2</th>\n",
       "      <td>All wrong, back off dear, forward doubt. Stay ...</td>\n",
       "      <td>Anxiety</td>\n",
       "      <td>0.0</td>\n",
       "    </tr>\n",
       "    <tr>\n",
       "      <th>3</th>\n",
       "      <td>I've shifted my focus to something else but I'...</td>\n",
       "      <td>Anxiety</td>\n",
       "      <td>0.0</td>\n",
       "    </tr>\n",
       "    <tr>\n",
       "      <th>4</th>\n",
       "      <td>I'm restless and restless, it's been a month n...</td>\n",
       "      <td>Anxiety</td>\n",
       "      <td>0.0</td>\n",
       "    </tr>\n",
       "  </tbody>\n",
       "</table>\n",
       "</div>"
      ],
      "text/plain": [
       "                                           statement   status  status_encoded\n",
       "0                                         oh my gosh  Anxiety             0.0\n",
       "1  trouble sleeping, confused mind, restless hear...  Anxiety             0.0\n",
       "2  All wrong, back off dear, forward doubt. Stay ...  Anxiety             0.0\n",
       "3  I've shifted my focus to something else but I'...  Anxiety             0.0\n",
       "4  I'm restless and restless, it's been a month n...  Anxiety             0.0"
      ]
     },
     "execution_count": 15,
     "metadata": {},
     "output_type": "execute_result"
    }
   ],
   "source": [
    "import pandas as pd\n",
    "import os\n",
    "\n",
    "# Use the relative path for the CSV file\n",
    "file_path = r\"Combined_Data.csv\"\n",
    "\n",
    "# Load the dataset from CSV\n",
    "df = pd.read_csv(file_path)\n",
    "\n",
    "# Drop unnecessary index column if it exists\n",
    "df_cleaned = df.drop(columns=[\"Unnamed: 0\"], errors=\"ignore\")\n",
    "\n",
    "# Remove rows with missing statement values\n",
    "df_cleaned = df_cleaned.dropna(subset=[\"statement\"])\n",
    "\n",
    "# Remove duplicate rows\n",
    "df_cleaned = df_cleaned.drop_duplicates()\n",
    "\n",
    "# Define label mapping\n",
    "label_mapping = {\n",
    "    \"normal\": \"None\",  # You can remove 'Normal' or map it to a class\n",
    "    \"depression\": \"Depression\",\n",
    "    \"suicidal\": \"Self-Harm Challenges\",\n",
    "    \"anxiety\": \"Anxiety\",\n",
    "    \"bipolar\": \"PTSD\",\n",
    "    \"stress\": \"Stress-Related Disorder\",\n",
    "    \"personality disorder\": \"Substance Use Disorder\"\n",
    "}\n",
    "\n",
    "# Map the labels in the dataset\n",
    "df_cleaned[\"status\"] = df_cleaned[\"status\"].replace(label_mapping)\n",
    "\n",
    "# Encode labels numerically for model training\n",
    "label_encoder = {\"Anxiety\": 0, \"Depression\": 1, \"PTSD\": 2, \"Stress-Related Disorder\": 3,\n",
    "                 \"Substance Use Disorder\": 4, \"Eating Disorder\": 5,\n",
    "                 \"Self-Harm Challenges\": 6, \"Attention Issues\": 7}\n",
    "\n",
    "df_cleaned[\"status_encoded\"] = df_cleaned[\"status\"].map(label_encoder)\n",
    "\n",
    "# Display cleaned dataset info and first rows\n",
    "df_cleaned.info()\n",
    "df_cleaned.head()"
   ]
  },
  {
   "cell_type": "code",
   "execution_count": 16,
   "id": "324fb236-9796-42f6-89d2-57bb804deb20",
   "metadata": {},
   "outputs": [
    {
     "name": "stdout",
     "output_type": "stream",
     "text": [
      "X shape: (51093, 5000)\n",
      "y shape: (51093,)\n",
      "RandomForestClassifier(class_weight='balanced', max_depth=25,\n",
      "                       min_samples_leaf=2, min_samples_split=4,\n",
      "                       n_estimators=150, random_state=42)\n"
     ]
    }
   ],
   "source": [
    "from sklearn.feature_extraction.text import TfidfVectorizer\n",
    "from sklearn.model_selection import train_test_split\n",
    "from sklearn.ensemble import RandomForestClassifier\n",
    "from sklearn.preprocessing import LabelEncoder\n",
    "\n",
    "# Convert text data into TF-IDF features with bigrams\n",
    "vectorizer = TfidfVectorizer(max_features=5000, ngram_range=(1, 2))  # Using unigrams + bigrams\n",
    "X = vectorizer.fit_transform(df_cleaned[\"statement\"])\n",
    "\n",
    "# Encode target labels into numbers\n",
    "# Ensure label encoding uses the updated 'status' after mapping\n",
    "label_encoder = LabelEncoder()\n",
    "y = label_encoder.fit_transform(df_cleaned[\"status\"])  # Convert labels to numbers (mapping already done)\n",
    "\n",
    "# Output shape of transformed data\n",
    "print(\"X shape:\", X.shape)\n",
    "print(\"y shape:\", y.shape)\n",
    "\n",
    "# Split the data into training and testing sets (80% train, 20% test), ensuring class balance\n",
    "X_train, X_test, y_train, y_test = train_test_split(X, y, test_size=0.2, stratify=y, random_state=42)\n",
    "\n",
    "# Train the Random Forest model with balanced class weights\n",
    "rf_model = RandomForestClassifier(\n",
    "    n_estimators=150, \n",
    "    max_depth=25, \n",
    "    min_samples_split=4, \n",
    "    min_samples_leaf=2, \n",
    "    class_weight=\"balanced\",  # Adjust for class imbalance\n",
    "    random_state=42\n",
    ")\n",
    "\n",
    "rf_model.fit(X_train, y_train)  # ✅ Now optimized!\n",
    "\n",
    "# Print model summary\n",
    "print(rf_model)"
   ]
  },
  {
   "cell_type": "code",
   "execution_count": 17,
   "id": "05c40360-2ae5-45fd-bcde-600c54231625",
   "metadata": {},
   "outputs": [
    {
     "data": {
      "text/plain": [
       "('C:\\\\Users\\\\Vincent\\\\Desktop\\\\Laravel-Workspace\\\\mental_health_app_3\\\\flask_api\\\\random_forest_model.pkl',\n",
       " 'C:\\\\Users\\\\Vincent\\\\Desktop\\\\Laravel-Workspace\\\\mental_health_app_3\\\\flask_api\\\\tfidf_vectorizer.pkl')"
      ]
     },
     "execution_count": 17,
     "metadata": {},
     "output_type": "execute_result"
    }
   ],
   "source": [
    "import joblib\n",
    "import os\n",
    "\n",
    "# Get the current working directory\n",
    "working_dir = os.getcwd()\n",
    "\n",
    "# Define file paths inside the working directory\n",
    "model_path = os.path.join(working_dir, \"random_forest_model.pkl\")\n",
    "vectorizer_path = os.path.join(working_dir, \"tfidf_vectorizer.pkl\")\n",
    "\n",
    "# Save the trained model\n",
    "joblib.dump(rf_model, model_path)\n",
    "\n",
    "# Save the vectorizer\n",
    "joblib.dump(vectorizer, vectorizer_path)\n",
    "\n",
    "(model_path, vectorizer_path)"
   ]
  },
  {
   "cell_type": "code",
   "execution_count": 18,
   "id": "78ce46d2-bd87-407e-9c5d-1a2e0bd0863e",
   "metadata": {},
   "outputs": [],
   "source": [
    "import numpy as np\n",
    "\n",
    "# Get feature importance scores from the RandomForest model\n",
    "feature_importances = rf_model.feature_importances_\n",
    "\n",
    "# Get feature names from TF-IDF vectorizer\n",
    "feature_names = np.array(vectorizer.get_feature_names_out())\n",
    "\n",
    "# Sort features by importance\n",
    "top_features = sorted(zip(feature_names, feature_importances), key=lambda x: x[1], reverse=True)"
   ]
  },
  {
   "cell_type": "code",
   "execution_count": 19,
   "id": "0a00b0a3-4bbb-422a-967f-44368771160f",
   "metadata": {},
   "outputs": [
    {
     "data": {
      "image/png": "[encoded data removed]",
      "text/plain": [
       "<Figure size 1000x500 with 1 Axes>"
      ]
     },
     "metadata": {},
     "output_type": "display_data"
    }
   ],
   "source": [
    "import matplotlib.pyplot as plt\n",
    "\n",
    "# Extract top 15 words and their importance scores\n",
    "top_words, top_scores = zip(*top_features[:15])\n",
    "\n",
    "# Plot feature importance\n",
    "plt.figure(figsize=(10, 5))\n",
    "plt.barh(top_words[::-1], top_scores[::-1], color='royalblue')  # Reverse for better visualization\n",
    "plt.xlabel(\"Importance Score\")\n",
    "plt.ylabel(\"Top Words\")\n",
    "plt.title(\"Top 15 Most Influential Words in Classification\")\n",
    "plt.show()"
   ]
  },
  {
   "cell_type": "code",
   "execution_count": 20,
   "id": "c137aa9e-29a7-4bda-90d5-1cfe07b69fd0",
   "metadata": {},
   "outputs": [],
   "source": [
    "# Make predictions on the test set\n",
    "y_pred = rf_model.predict(X_test)"
   ]
  },
  {
   "cell_type": "code",
   "execution_count": 8,
   "id": "1760631f-fc48-4149-b7d8-b88ca8119e4e",
   "metadata": {},
   "outputs": [
    {
     "name": "stdout",
     "output_type": "stream",
     "text": [
      "                                           statement  actual_status  \\\n",
      "0  I've shifted my focus to something else but I'...              3   \n",
      "1                 I'm really worried, I want to cry.              2   \n",
      "2                         Because this worry is you.              0   \n",
      "3  Every time I wake up, I'm definitely nervous a...              2   \n",
      "4  I can only hope, even though I'm worried if it...              0   \n",
      "5                       restive = restless, restless              6   \n",
      "6  If the guy is sick, the girl actually feels si...              0   \n",
      "7         Already worried about picking up the phone              2   \n",
      "8  a little restless. a little restless. always f...              2   \n",
      "9           I've been so restless since this morning              6   \n",
      "\n",
      "   predicted_status  \n",
      "0                 5  \n",
      "1                 6  \n",
      "2                 5  \n",
      "3                 6  \n",
      "4                 3  \n",
      "5                 2  \n",
      "6                 3  \n",
      "7                 6  \n",
      "8                 6  \n",
      "9                 2  \n"
     ]
    }
   ],
   "source": [
    "import numpy as np\n",
    "import pandas as pd\n",
    "\n",
    "# Convert y_test to a NumPy array if it's a Pandas Series\n",
    "y_test_array = np.array(y_test)\n",
    "\n",
    "# Identify misclassified statements\n",
    "misclassified_indices = np.where(y_pred != y_test_array)[0]\n",
    "\n",
    "# Extract a sample of misclassified statements\n",
    "misclassified_samples = pd.DataFrame({\n",
    "    \"statement\": df_cleaned.iloc[misclassified_indices[:10]][\"statement\"].values,\n",
    "    \"actual_status\": y_test_array[misclassified_indices[:10]],\n",
    "    \"predicted_status\": y_pred[misclassified_indices[:10]]\n",
    "})\n",
    "\n",
    "# Display misclassified samples\n",
    "print(misclassified_samples)"
   ]
  },
  {
   "cell_type": "code",
   "execution_count": 11,
   "id": "e8ba0857-8360-4ad4-8321-c21496c696d2",
   "metadata": {},
   "outputs": [
    {
     "data": {
      "image/png": "[encoded data removed]",
      "text/plain": [
       "<Figure size 1000x500 with 1 Axes>"
      ]
     },
     "metadata": {},
     "output_type": "display_data"
    }
   ],
   "source": [
    "import matplotlib.pyplot as plt\n",
    "import seaborn as sns\n",
    "\n",
    "# Check the distribution of labels\n",
    "label_counts = df_cleaned[\"status\"].value_counts()\n",
    "\n",
    "# Plot label distribution with updated syntax\n",
    "plt.figure(figsize=(10, 5))  # Increased size for clarity\n",
    "sns.barplot(x=label_counts.index, y=label_counts.values, errorbar=None)  # Removed ci=None and passed errorbar=None\n",
    "plt.xlabel(\"Mental Health Status\")\n",
    "plt.ylabel(\"Number of Samples\")\n",
    "plt.title(\"Distribution of Labels in Dataset\")\n",
    "plt.xticks(rotation=45)  # Rotate labels for better visibility\n",
    "\n",
    "# Add value labels on bars\n",
    "for i, value in enumerate(label_counts.values):\n",
    "    plt.text(i, value + 2, str(value), ha=\"center\", fontsize=10, fontweight=\"bold\")\n",
    "\n",
    "plt.show()"
   ]
  },
  {
   "cell_type": "code",
   "execution_count": 12,
   "id": "39cba3d2-0eaf-4bf0-8803-a95a598a7615",
   "metadata": {},
   "outputs": [
    {
     "data": {
      "text/plain": [
       "0.6892063802720423"
      ]
     },
     "execution_count": 12,
     "metadata": {},
     "output_type": "execute_result"
    }
   ],
   "source": [
    "from sklearn.ensemble import RandomForestClassifier\n",
    "from sklearn.metrics import accuracy_score\n",
    "\n",
    "# Train a Random Forest model with class weights\n",
    "rf_model_weighted = RandomForestClassifier(\n",
    "    n_estimators=100, \n",
    "    max_depth=20, \n",
    "    min_samples_split=5, \n",
    "    min_samples_leaf=2, \n",
    "    class_weight=\"balanced\",  # Adjusts for class imbalance\n",
    "    random_state=42\n",
    ")\n",
    "\n",
    "# Train the model\n",
    "rf_model_weighted.fit(X_train, y_train)\n",
    "\n",
    "# Make predictions\n",
    "y_pred_weighted = rf_model_weighted.predict(X_test)\n",
    "\n",
    "# Evaluate accuracy\n",
    "accuracy_weighted = accuracy_score(y_test, y_pred_weighted)\n",
    "accuracy_weighted"
   ]
  },
  {
   "cell_type": "code",
   "execution_count": 29,
   "id": "e50c0cc5-e2e4-4bb1-a142-03311bdb8058",
   "metadata": {},
   "outputs": [
    {
     "data": {
      "text/plain": [
       "['tfidf_vectorizer.pkl']"
      ]
     },
     "execution_count": 29,
     "metadata": {},
     "output_type": "execute_result"
    }
   ],
   "source": [
    "import joblib\n",
    "\n",
    "# Save the improved model\n",
    "joblib.dump(rf_model_weighted, \"random_forest_weighted.pkl\")\n",
    "\n",
    "# Save the vectorizer\n",
    "joblib.dump(vectorizer, \"tfidf_vectorizer.pkl\")"
   ]
  },
  {
   "cell_type": "code",
   "execution_count": null,
   "id": "42ad480e-2976-4605-a103-2d5a8aaf4b85",
   "metadata": {},
   "outputs": [],
   "source": []
  }
 ],
 "metadata": {
  "kernelspec": {
   "display_name": "Python 3 (ipykernel)",
   "language": "python",
   "name": "python3"
  },
  "language_info": {
   "codemirror_mode": {
    "name": "ipython",
    "version": 3
   },
   "file_extension": ".py",
   "mimetype": "text/x-python",
   "name": "python",
   "nbconvert_exporter": "python",
   "pygments_lexer": "ipython3",
   "version": "3.13.1"
  }
 },
 "nbformat": 4,
 "nbformat_minor": 5
}
